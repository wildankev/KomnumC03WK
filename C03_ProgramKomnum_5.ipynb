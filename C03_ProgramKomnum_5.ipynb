{
 "cells": [
  {
   "cell_type": "markdown",
   "id": "0b11c112",
   "metadata": {},
   "source": [
    "# Laporan Tugas Komputasi Numerik 2025 - Metode Posisi Salah\n",
    "Kelompok        : **C03**\n",
    "\n",
    "Nama Anggota    : \n",
    "|    NRP     |      Name      |\n",
    "| :--------: | :------------: |\n",
    "| 5025241264 | Muhammad Hilman Azhar |\n",
    "| 5025241265 | A. Wildan Kevin Assyauqi |\n",
    "| 5025241266 | Imam Baidhawi |\n",
    "| 5025241267 | M. Sayyidil Anam |"
   ]
  },
  {
   "cell_type": "markdown",
   "id": "8c45a4ee",
   "metadata": {},
   "source": [
    "### Soal\n",
    "Diketahui fungsi:\n",
    "$$\n",
    "f(x) = x^3 + 6x^2 - 19x - 84\n",
    "$$\n",
    "\n",
    "Dengan:\n",
    "- Batas bawah (XL) = -4  \n",
    "- Batas atas (XU) = 3  \n",
    "- Akar sebenarnya = -3  \n",
    "\n",
    "Kita metode **posisi salah (false position)** untuk mencari akar fungsi tersebut. Iterasi dilakukan hingga memenuhi kriteria:\n",
    " $$\n",
    "0 \\leq E_t < 1\\%\n",
    "$$\n"
   ]
  },
  {
   "cell_type": "markdown",
   "id": "30fdfd3c",
   "metadata": {},
   "source": [
    "### Penjelasan Metode Posisi Salah\n",
    "\n",
    "Metode posisi salah merupakan metode numerik untuk mencari akar dari suatu fungsi non-linear menggunakan pendekatan linear di antara dua titik yang membatasi akar.\n",
    "\n",
    "**Langkah-langkah:**\n",
    "\n",
    "1. Tentukan dua nilai awal $x_l$ dan $x_u$ sedemikian sehingga $f(x_l) \\times f(x_u) < 0$.\n",
    "2. Hitung akar pendekatan $x_r$ dengan rumus:\n",
    "   $$\n",
    "   x_r = x_u - \\frac{f(x_u)(x_l - x_u)}{f(x_l) - f(x_u)}\n",
    "   $$\n",
    "3. Hitung galat relatif terhadap akar sebenarnya:\n",
    "   $$\n",
    "   E_t = \\left|\\frac{x_{true} - x_r}{x_{true}}\\right| \\times 100\\%\n",
    "   $$\n",
    "4. Evaluasi tanda dari $f(x_l) \\times f(x_r)$:\n",
    "   - Jika negatif, akar ada di antara $x_l$ dan $x_r$, maka $x_u = x_r$\n",
    "   - Jika positif, maka $x_l = x_r$\n",
    "5. Ulangi langkah 2–4 hingga galat relatif $E_t$ kurang dari 1%.\n"
   ]
  },
  {
   "cell_type": "code",
   "execution_count": 2,
   "id": "e11b1ab4",
   "metadata": {},
   "outputs": [
    {
     "data": {
      "text/html": [
       "<div>\n",
       "<style scoped>\n",
       "    .dataframe tbody tr th:only-of-type {\n",
       "        vertical-align: middle;\n",
       "    }\n",
       "\n",
       "    .dataframe tbody tr th {\n",
       "        vertical-align: top;\n",
       "    }\n",
       "\n",
       "    .dataframe thead th {\n",
       "        text-align: right;\n",
       "    }\n",
       "</style>\n",
       "<table border=\"1\" class=\"dataframe\">\n",
       "  <thead>\n",
       "    <tr style=\"text-align: right;\">\n",
       "      <th></th>\n",
       "      <th>Iterasi</th>\n",
       "      <th>xl</th>\n",
       "      <th>xu</th>\n",
       "      <th>xr</th>\n",
       "      <th>Et (%)</th>\n",
       "    </tr>\n",
       "  </thead>\n",
       "  <tbody>\n",
       "    <tr>\n",
       "      <th>0</th>\n",
       "      <td>1</td>\n",
       "      <td>-4.00</td>\n",
       "      <td>3.0</td>\n",
       "      <td>-2.00</td>\n",
       "      <td>33.33</td>\n",
       "    </tr>\n",
       "    <tr>\n",
       "      <th>1</th>\n",
       "      <td>2</td>\n",
       "      <td>-4.00</td>\n",
       "      <td>-2.0</td>\n",
       "      <td>-3.11</td>\n",
       "      <td>3.70</td>\n",
       "    </tr>\n",
       "    <tr>\n",
       "      <th>2</th>\n",
       "      <td>3</td>\n",
       "      <td>-3.11</td>\n",
       "      <td>-2.0</td>\n",
       "      <td>-3.01</td>\n",
       "      <td>0.26</td>\n",
       "    </tr>\n",
       "  </tbody>\n",
       "</table>\n",
       "</div>"
      ],
      "text/plain": [
       "   Iterasi    xl   xu    xr  Et (%)\n",
       "0        1 -4.00  3.0 -2.00   33.33\n",
       "1        2 -4.00 -2.0 -3.11    3.70\n",
       "2        3 -3.11 -2.0 -3.01    0.26"
      ]
     },
     "execution_count": 2,
     "metadata": {},
     "output_type": "execute_result"
    }
   ],
   "source": [
    "import pandas as pd\n",
    "\n",
    "def f(x):\n",
    "    return x**3 + 6*x**2 - 19*x - 84\n",
    "\n",
    "def false_position_table(xl, xu, xt_true, tol=1.0):\n",
    "    data = []\n",
    "    iterasi = 1\n",
    "    while True:\n",
    "        fxu = f(xu)\n",
    "        fxl = f(xl)\n",
    "        xr = xu - (fxu * (xl - xu)) / (fxl - fxu)\n",
    "        Et = abs((xt_true - xr) / xt_true) * 100\n",
    "        data.append([iterasi, round(xl,2), round(xu,2), round(xr,2), round(Et,2)])\n",
    "\n",
    "        if Et < tol:\n",
    "            break\n",
    "\n",
    "        if f(xl) * f(xr) < 0:\n",
    "            xu = xr\n",
    "        else:\n",
    "            xl = xr\n",
    "\n",
    "        iterasi += 1\n",
    "\n",
    "    df = pd.DataFrame(data, columns=[\"Iterasi\", \"xl\", \"xu\", \"xr\", \"Et (%)\"])\n",
    "    return df\n",
    "\n",
    "xl = -4\n",
    "xu = 3\n",
    "xt_true = -3\n",
    "df = false_position_table(xl, xu, xt_true)\n",
    "df"
   ]
  },
  {
   "cell_type": "markdown",
   "id": "bd7581ee",
   "metadata": {},
   "source": [
    "### Tabel Iterasi\n",
    "\n",
    "Tabel di atas menunjukkan proses iteratif untuk mencari akar fungsi menggunakan metode posisi salah. Kolom-kolomnya terdiri dari:\n",
    "\n",
    "- **Iterasi**: nomor urut iterasi ke-n  \n",
    "- **xl, xu**: batas bawah dan atas  \n",
    "- **xr**: hasil pendekatan akar pada iterasi tersebut  \n",
    "- **Et (%)**: galat relatif terhadap akar sebenarnya  \n",
    "\n",
    "Iterasi dihentikan ketika galat relatif mencapai kurang dari 1%.\n"
   ]
  },
  {
   "cell_type": "markdown",
   "id": "fd72393b",
   "metadata": {},
   "source": [
    "### Kesimpulan\n",
    "\n",
    "Dengan menggunakan metode posisi salah, diperoleh akar fungsi mendekati nilai sebenarnya $$ x = -3 $$ dalam beberapa iterasi.  \n",
    "Hasil akhir menunjukkan galat relatif di bawah 1%, sesuai dengan kriteria toleransi yang diberikan.\n"
   ]
  }
 ],
 "metadata": {
  "kernelspec": {
   "display_name": "base",
   "language": "python",
   "name": "python3"
  },
  "language_info": {
   "codemirror_mode": {
    "name": "ipython",
    "version": 3
   },
   "file_extension": ".py",
   "mimetype": "text/x-python",
   "name": "python",
   "nbconvert_exporter": "python",
   "pygments_lexer": "ipython3",
   "version": "3.12.7"
  }
 },
 "nbformat": 4,
 "nbformat_minor": 5
}
